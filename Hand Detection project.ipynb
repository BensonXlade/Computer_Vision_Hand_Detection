{
 "cells": [
  {
   "cell_type": "code",
   "execution_count": 1,
   "id": "4dd1c6c9",
   "metadata": {},
   "outputs": [
    {
     "name": "stdout",
     "output_type": "stream",
     "text": [
      "Libraries imported successfully!\n",
      "OpenCV version: 4.10.0\n"
     ]
    }
   ],
   "source": [
    "import cv2\n",
    "import mediapipe as mp\n",
    "\n",
    "print(\"Libraries imported successfully!\")\n",
    "print(\"OpenCV version:\", cv2.__version__)"
   ]
  },
  {
   "cell_type": "code",
   "execution_count": 5,
   "id": "985cc2c6",
   "metadata": {},
   "outputs": [
    {
     "name": "stderr",
     "output_type": "stream",
     "text": [
      "2025-01-08 19:34:10.407 python[49930:2118426] WARNING: AVCaptureDeviceTypeExternal is deprecated for Continuity Cameras. Please use AVCaptureDeviceTypeContinuityCamera and add NSCameraUseContinuityCameraDeviceType to your Info.plist.\n"
     ]
    }
   ],
   "source": [
    "# step 2: Identify your webcam\n",
    "\n",
    "cap = cv2.VideoCapture(1) # local webcam - 0, External -1"
   ]
  },
  {
   "cell_type": "code",
   "execution_count": 7,
   "id": "473af4e7",
   "metadata": {},
   "outputs": [
    {
     "name": "stderr",
     "output_type": "stream",
     "text": [
      "WARNING: All log messages before absl::InitializeLog() is called are written to STDERR\n",
      "I0000 00:00:1736364869.900823 2118426 gl_context.cc:369] GL version: 2.1 (2.1 Metal - 89.3), renderer: Apple M2 Pro\n"
     ]
    }
   ],
   "source": [
    "#step 4:    leveraging the mediapipe library used for hand detection\n",
    "mpHands = mp.solutions.hands\n",
    "hands = mpHands.Hands()\n",
    "mpDraw = mp.solutions.drawing_utils"
   ]
  },
  {
   "cell_type": "markdown",
   "id": "c7e6a8d1",
   "metadata": {},
   "source": [
    "capture =cv2.VideoCapture(0)     # 0 - Local Webcam and 1 - for external webcam\n",
    "\n",
    "while True:\n",
    "    _, frame = capture.read()\n",
    "    gray = cv2.cvtColor(frame, cv2.COLOR_BGR2GRAY)\n",
    "    canvas = detect(gray, frame)\n",
    "    cv2.imshow(\"Video\", canvas)\n",
    "    if cv2.waitKey(1) & 0xff == ord(\"q\"):\n",
    "        break\n",
    "capture.release()\n",
    "cv2.destroyAllWindows()"
   ]
  },
  {
   "cell_type": "code",
   "execution_count": 9,
   "id": "62ca2be9",
   "metadata": {},
   "outputs": [
    {
     "name": "stderr",
     "output_type": "stream",
     "text": [
      "W0000 00:00:1736364875.896817 2120478 landmark_projection_calculator.cc:186] Using NORM_RECT without IMAGE_DIMENSIONS is only supported for the square ROI. Provide IMAGE_DIMENSIONS or use PROJECTION_MATRIX.\n",
      "2025-01-08 19:34:36.383 python[49930:2118426] +[IMKClient subclass]: chose IMKClient_Modern\n",
      "2025-01-08 19:34:36.383 python[49930:2118426] +[IMKInputSession subclass]: chose IMKInputSession_Modern\n"
     ]
    },
    {
     "ename": "KeyboardInterrupt",
     "evalue": "",
     "output_type": "error",
     "traceback": [
      "\u001b[0;31m---------------------------------------------------------------------------\u001b[0m",
      "\u001b[0;31mKeyboardInterrupt\u001b[0m                         Traceback (most recent call last)",
      "Cell \u001b[0;32mIn[9], line 23\u001b[0m\n\u001b[1;32m     21\u001b[0m     cv2\u001b[38;5;241m.\u001b[39mputText(img, \u001b[38;5;124m\"\u001b[39m\u001b[38;5;124mHand Detection  Program\u001b[39m\u001b[38;5;124m\"\u001b[39m, (\u001b[38;5;241m10\u001b[39m, \u001b[38;5;241m70\u001b[39m), cv2\u001b[38;5;241m.\u001b[39mFONT_HERSHEY_PLAIN, \u001b[38;5;241m3\u001b[39m, (\u001b[38;5;241m255\u001b[39m, \u001b[38;5;241m255\u001b[39m, \u001b[38;5;241m255\u001b[39m), \u001b[38;5;241m2\u001b[39m)\n\u001b[1;32m     22\u001b[0m     cv2\u001b[38;5;241m.\u001b[39mimshow(\u001b[38;5;124m\"\u001b[39m\u001b[38;5;124m10Alytics Hand detection project\u001b[39m\u001b[38;5;124m\"\u001b[39m, img)\n\u001b[0;32m---> 23\u001b[0m     \u001b[38;5;28;01mif\u001b[39;00m cv2\u001b[38;5;241m.\u001b[39mwaitKey(\u001b[38;5;241m1\u001b[39m) \u001b[38;5;241m&\u001b[39m \u001b[38;5;241m0xFF\u001b[39m \u001b[38;5;241m==\u001b[39m \u001b[38;5;28mord\u001b[39m(\u001b[38;5;124m\"\u001b[39m\u001b[38;5;124mq\u001b[39m\u001b[38;5;124m\"\u001b[39m):\n\u001b[1;32m     24\u001b[0m         \u001b[38;5;28;01mbreak\u001b[39;00m\n\u001b[1;32m     26\u001b[0m \u001b[38;5;66;03m# Release the capture once all the processing is done.\u001b[39;00m\n",
      "\u001b[0;31mKeyboardInterrupt\u001b[0m: "
     ]
    }
   ],
   "source": [
    "# step 3: switch on webcam\n",
    "\n",
    "while True:\n",
    "    _, img = cap.read()\n",
    "    \n",
    "    #convert image from BGR to RGB\n",
    "    imgRGB = cv2.cvtColor(img, cv2.COLOR_BGR2RGB)\n",
    "    \n",
    "    #Apply mediapipe\n",
    "    results = hands.process(imgRGB)\n",
    "    \n",
    "    #print(results.multi_hand_landmarks)\n",
    "        \n",
    "    if results.multi_hand_landmarks:\n",
    "        for handsLms in results.multi_hand_landmarks:\n",
    "            for id, lm in enumerate(handsLms.landmark):\n",
    "                #print(id, lm)\n",
    "                \n",
    "                mpDraw.draw_landmarks(img, handsLms, mpHands.HAND_CONNECTIONS)\n",
    "    \n",
    "    cv2.putText(img, \"Hand Detection  Program\", (10, 70), cv2.FONT_HERSHEY_PLAIN, 3, (255, 255, 255), 2)\n",
    "    cv2.imshow(\"10Alytics Hand detection project\", img)\n",
    "    if cv2.waitKey(1) & 0xFF == ord(\"q\"):\n",
    "        break\n",
    "        \n",
    "# Release the capture once all the processing is done.\n",
    "cap.release()\n",
    "cv2.destroyAllWindows()"
   ]
  },
  {
   "cell_type": "code",
   "execution_count": null,
   "id": "ecf3f7c9",
   "metadata": {},
   "outputs": [],
   "source": []
  },
  {
   "cell_type": "code",
   "execution_count": null,
   "id": "6cdb4126",
   "metadata": {},
   "outputs": [],
   "source": []
  }
 ],
 "metadata": {
  "kernelspec": {
   "display_name": "Python 3 (ipykernel)",
   "language": "python",
   "name": "python3"
  },
  "language_info": {
   "codemirror_mode": {
    "name": "ipython",
    "version": 3
   },
   "file_extension": ".py",
   "mimetype": "text/x-python",
   "name": "python",
   "nbconvert_exporter": "python",
   "pygments_lexer": "ipython3",
   "version": "3.11.7"
  }
 },
 "nbformat": 4,
 "nbformat_minor": 5
}
